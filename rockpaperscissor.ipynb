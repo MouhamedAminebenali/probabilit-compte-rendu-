{
 "cells": [
  {
   "cell_type": "code",
   "execution_count": 1,
   "metadata": {},
   "outputs": [],
   "source": [
    "import numpy as np "
   ]
  },
  {
   "cell_type": "code",
   "execution_count": 10,
   "metadata": {},
   "outputs": [],
   "source": [
    "\n",
    "def RPS():\n",
    "    p1=np.random.choice(['R','P','S'])\n",
    "    p2=np.random.choice(['R','P','S'])\n",
    "    if((p1=='R' and p2=='S')or(p1=='S'and p2=='P')or(p1=='P' and p2=='R')):\n",
    "        return 1\n",
    "    elif p1==p2:\n",
    "        return 0\n",
    "    else:\n",
    "        return 2\n"
   ]
  },
  {
   "cell_type": "code",
   "execution_count": 13,
   "metadata": {},
   "outputs": [
    {
     "name": "stdout",
     "output_type": "stream",
     "text": [
      "p1 win\n",
      "p1 win\n",
      "p2 win\n",
      "p1 win\n",
      "none\n",
      "p1 win\n",
      "none\n",
      "p1 win\n",
      "p2 win\n",
      "p1 win\n",
      "none\n",
      "p1 win\n",
      "p1 win\n",
      "p2 win\n",
      "p2 win\n"
     ]
    }
   ],
   "source": [
    "for i in range(15):\n",
    "    res=RPS()\n",
    "    if(res==1):\n",
    "        print(\"p1 win\")\n",
    "    elif (res==2):\n",
    "        print(\"p2 win\")\n",
    "    else:\n",
    "        print(\"none\")"
   ]
  },
  {
   "cell_type": "code",
   "execution_count": 17,
   "metadata": {},
   "outputs": [
    {
     "name": "stdout",
     "output_type": "stream",
     "text": [
      "%p1 gange=32.4, %p2 gange=35.199999999999996, %matchrul=35.199999999999996\n"
     ]
    }
   ],
   "source": [
    "n=1000\n",
    "l=[RPS()for k in range(n)]\n",
    "p1=(l.count(1)/n)*100\n",
    "p2=(l.count(2)/n)*100\n",
    "px=(l.count(0)/n)*100\n",
    "print(f'%p1 gange={p1}, %p2 gange={p2}, %matchrul={p2}')"
   ]
  }
 ],
 "metadata": {
  "kernelspec": {
   "display_name": "Python 3.10.2 64-bit",
   "language": "python",
   "name": "python3"
  },
  "language_info": {
   "codemirror_mode": {
    "name": "ipython",
    "version": 3
   },
   "file_extension": ".py",
   "mimetype": "text/x-python",
   "name": "python",
   "nbconvert_exporter": "python",
   "pygments_lexer": "ipython3",
   "version": "3.10.2 (tags/v3.10.2:a58ebcc, Jan 17 2022, 14:12:15) [MSC v.1929 64 bit (AMD64)]"
  },
  "orig_nbformat": 4,
  "vscode": {
   "interpreter": {
    "hash": "eb22f81eb813425c60bceddf4ceb76c2fdae7cb1b6ec14ef74adcd6c34b02af5"
   }
  }
 },
 "nbformat": 4,
 "nbformat_minor": 2
}
